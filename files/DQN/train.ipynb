{
 "cells": [
  {
   "cell_type": "code",
   "execution_count": 3,
   "metadata": {},
   "outputs": [
    {
     "name": "stderr",
     "output_type": "stream",
     "text": [
      "c:\\Users\\Ernest\\.conda\\envs\\l2rpn-test\\lib\\site-packages\\grid2op\\Backend\\pandaPowerBackend.py:32: UserWarning: Numba cannot be loaded. You will gain possibly massive speed if installing it by \n",
      "\tc:\\Users\\Ernest\\.conda\\envs\\l2rpn-test\\python.exe -m pip install numba\n",
      "\n",
      "  warnings.warn(\n"
     ]
    }
   ],
   "source": [
    "import os\n",
    "import numpy as np\n",
    "import pandas as pd\n",
    "from Agent import Agent\n",
    "import matplotlib.pyplot as plt\n",
    "import warnings\n",
    "import grid2op\n",
    "from grid2op.Action import TopologyChangeAction\n",
    "from tqdm.notebook import tqdm\n",
    "import grid2op\n",
    "from utils import obs_to_vect, Converter, plotLearning"
   ]
  },
  {
   "cell_type": "code",
   "execution_count": 4,
   "metadata": {},
   "outputs": [
    {
     "name": "stderr",
     "output_type": "stream",
     "text": [
      "c:\\Users\\Ernest\\.conda\\envs\\l2rpn-test\\lib\\site-packages\\grid2op\\MakeEnv\\Make.py:438: UserWarning: You are using a development environment. This environment is not intended for training agents. It might not be up to date and its primary use if for tests (hence the \"test=True\" you passed as argument). Use at your own risk.\n",
      "  warnings.warn(_MAKE_DEV_ENV_WARN)\n"
     ]
    }
   ],
   "source": [
    "env_name = \"rte_case5_example\"  # or any other name.\n",
    "env = grid2op.make(env_name, test=True, action_class=TopologyChangeAction)"
   ]
  },
  {
   "cell_type": "code",
   "execution_count": 5,
   "metadata": {},
   "outputs": [],
   "source": [
    "import torch\n",
    "import torch.nn as nn\n",
    "import torch.nn.functional as F\n",
    "import torch.optim as optim\n",
    "import random\n",
    "from operator import itemgetter\n",
    "from collections import namedtuple, deque\n",
    "import copy"
   ]
  },
  {
   "cell_type": "code",
   "execution_count": 10,
   "metadata": {},
   "outputs": [],
   "source": [
    "class DQN_Agent:\n",
    "    \n",
    "    def __init__(self, seed, layer_sizes, lr, sync_freq, exp_replay_size):\n",
    "        torch.manual_seed(seed)\n",
    "        self.q_net = self.build_nn(layer_sizes)\n",
    "        self.target_net = copy.deepcopy(self.q_net)\n",
    "        self.q_net.cuda()\n",
    "        self.target_net.cuda()\n",
    "        self.loss_fn = torch.nn.MSELoss()\n",
    "        self.optimizer = torch.optim.Adam(self.q_net.parameters(), lr=lr)\n",
    "        \n",
    "        self.network_sync_freq = sync_freq\n",
    "        self.network_sync_counter = 0\n",
    "        self.gamma = torch.tensor(0.95).float().cuda()\n",
    "        self.experience_replay = deque(maxlen = exp_replay_size)  \n",
    "        return\n",
    "        \n",
    "    def build_nn(self, layer_sizes):\n",
    "        assert len(layer_sizes) > 1\n",
    "        layers = []\n",
    "        for index in range(len(layer_sizes)-1):\n",
    "            linear = nn.Linear(layer_sizes[index], layer_sizes[index+1])\n",
    "            act =    nn.Tanh() if index < len(layer_sizes)-2 else nn.Identity()\n",
    "            layers += (linear,act)\n",
    "        return nn.Sequential(*layers)\n",
    "    \n",
    "    def get_action(self, state, action_space_len, epsilon):\n",
    "        # We do not require gradient at this point, because this function will be used either\n",
    "        # during experience collection or during inference\n",
    "        with torch.no_grad():\n",
    "            Qp = self.q_net(torch.from_numpy(state).float().cuda())\n",
    "        Q,A = torch.max(Qp, axis=0)\n",
    "        A = A if torch.rand(1,).item() > epsilon else torch.randint(0,action_space_len,(1,))\n",
    "        return A\n",
    "    \n",
    "    def get_q_next(self, state):\n",
    "        with torch.no_grad():\n",
    "            qp = self.target_net(state)\n",
    "        q,_ = torch.max(qp, axis=1)    \n",
    "        return q\n",
    "    \n",
    "    def collect_experience(self, experience):\n",
    "        self.experience_replay.append(experience)\n",
    "        return\n",
    "    \n",
    "    def sample_from_experience(self, sample_size):\n",
    "        if(len(self.experience_replay) < sample_size):\n",
    "            sample_size = len(self.experience_replay)   \n",
    "        sample = random.sample(self.experience_replay, sample_size)\n",
    "        s = torch.tensor([exp[0] for exp in sample]).float()\n",
    "        a = torch.tensor([exp[1] for exp in sample]).float()\n",
    "        rn = torch.tensor([exp[2] for exp in sample]).float()\n",
    "        sn = torch.tensor([exp[3] for exp in sample]).float()   \n",
    "        return s, a, rn, sn\n",
    "    \n",
    "    def train(self, batch_size ):\n",
    "        s, a, rn, sn = self.sample_from_experience( sample_size = batch_size)\n",
    "        print(\"Shapes: s={}, a={}, rn={}, sn={}\".format(s.shape, a.shape, rn.shape, sn.shape))  \n",
    "        \n",
    "        if(self.network_sync_counter == self.network_sync_freq):\n",
    "            self.target_net.load_state_dict(self.q_net.state_dict())\n",
    "            self.network_sync_counter = 0\n",
    "        \n",
    "        # predict expected return of current state using main network\n",
    "        qp = self.q_net(s.cuda())\n",
    "        pred_return, _ = torch.max(qp, axis=1)\n",
    "        \n",
    "        # get target return using target network\n",
    "        q_next = self.get_q_next(sn.cuda())\n",
    "        target_return = rn.cuda() + self.gamma * q_next\n",
    "        \n",
    "        loss = self.loss_fn(pred_return, target_return)\n",
    "        self.optimizer.zero_grad()\n",
    "        loss.backward(retain_graph=True)\n",
    "        self.optimizer.step()\n",
    "        \n",
    "        self.network_sync_counter += 1       \n",
    "        return loss.item()"
   ]
  },
  {
   "cell_type": "code",
   "execution_count": 11,
   "metadata": {},
   "outputs": [
    {
     "data": {
      "application/vnd.jupyter.widget-view+json": {
       "model_id": "2ea177804c5a4c788abe12494c09830a",
       "version_major": 2,
       "version_minor": 0
      },
      "text/plain": [
       "  0%|          | 0/10000 [00:00<?, ?it/s]"
      ]
     },
     "metadata": {},
     "output_type": "display_data"
    },
    {
     "name": "stdout",
     "output_type": "stream",
     "text": [
      "Shapes: s=torch.Size([16, 182]), a=torch.Size([16]), rn=torch.Size([16]), sn=torch.Size([16, 182])\n",
      "Shapes: s=torch.Size([16, 182]), a=torch.Size([16]), rn=torch.Size([16]), sn=torch.Size([16, 182])\n",
      "Shapes: s=torch.Size([16, 182]), a=torch.Size([16]), rn=torch.Size([16]), sn=torch.Size([16, 182])\n",
      "Shapes: s=torch.Size([16, 182]), a=torch.Size([16]), rn=torch.Size([16]), sn=torch.Size([16, 182])\n"
     ]
    },
    {
     "ename": "ValueError",
     "evalue": "zero-size array to reduction operation maximum which has no identity",
     "output_type": "error",
     "traceback": [
      "\u001b[1;31m---------------------------------------------------------------------------\u001b[0m",
      "\u001b[1;31mValueError\u001b[0m                                Traceback (most recent call last)",
      "Cell \u001b[1;32mIn[11], line 34\u001b[0m\n\u001b[0;32m     32\u001b[0m ep_len \u001b[38;5;241m+\u001b[39m\u001b[38;5;241m=\u001b[39m \u001b[38;5;241m1\u001b[39m \n\u001b[0;32m     33\u001b[0m A \u001b[38;5;241m=\u001b[39m agent\u001b[38;5;241m.\u001b[39mget_action(obs\u001b[38;5;241m.\u001b[39mto_vect(), env\u001b[38;5;241m.\u001b[39maction_space\u001b[38;5;241m.\u001b[39mn, epsilon)\n\u001b[1;32m---> 34\u001b[0m obs_next, reward, done, _ \u001b[38;5;241m=\u001b[39m \u001b[43menv\u001b[49m\u001b[38;5;241;43m.\u001b[39;49m\u001b[43mstep\u001b[49m\u001b[43m(\u001b[49m\u001b[43mconverter\u001b[49m\u001b[38;5;241;43m.\u001b[39;49m\u001b[43mconvert_one_hot_encoding_act_to_env_act\u001b[49m\u001b[43m(\u001b[49m\u001b[43mconverter\u001b[49m\u001b[38;5;241;43m.\u001b[39;49m\u001b[43mint_to_one_hot_encoding\u001b[49m\u001b[43m(\u001b[49m\u001b[43mA\u001b[49m\u001b[38;5;241;43m.\u001b[39;49m\u001b[43mitem\u001b[49m\u001b[43m(\u001b[49m\u001b[43m)\u001b[49m\u001b[43m)\u001b[49m\u001b[43m)\u001b[49m\u001b[43m)\u001b[49m\n\u001b[0;32m     35\u001b[0m agent\u001b[38;5;241m.\u001b[39mcollect_experience([obs\u001b[38;5;241m.\u001b[39mto_vect(), A\u001b[38;5;241m.\u001b[39mitem(), reward, obs_next\u001b[38;5;241m.\u001b[39mto_vect()])\n\u001b[0;32m     37\u001b[0m obs \u001b[38;5;241m=\u001b[39m obs_next\n",
      "File \u001b[1;32mc:\\Users\\Ernest\\.conda\\envs\\l2rpn-test\\lib\\site-packages\\grid2op\\Environment\\baseEnv.py:3342\u001b[0m, in \u001b[0;36mBaseEnv.step\u001b[1;34m(self, action)\u001b[0m\n\u001b[0;32m   3340\u001b[0m     \u001b[38;5;28;01mif\u001b[39;00m \u001b[38;5;129;01mnot\u001b[39;00m is_done:\n\u001b[0;32m   3341\u001b[0m         \u001b[38;5;28mself\u001b[39m\u001b[38;5;241m.\u001b[39m_update_alert_properties(action, lines_attacked, subs_attacked)\n\u001b[1;32m-> 3342\u001b[0m         detailed_info, has_error \u001b[38;5;241m=\u001b[39m \u001b[38;5;28;43mself\u001b[39;49m\u001b[38;5;241;43m.\u001b[39;49m\u001b[43m_aux_run_pf_after_state_properly_set\u001b[49m\u001b[43m(\u001b[49m\n\u001b[0;32m   3343\u001b[0m \u001b[43m            \u001b[49m\u001b[43maction\u001b[49m\u001b[43m,\u001b[49m\u001b[43m \u001b[49m\u001b[43minit_line_status\u001b[49m\u001b[43m,\u001b[49m\u001b[43m \u001b[49m\u001b[43mnew_p\u001b[49m\u001b[43m,\u001b[49m\u001b[43m \u001b[49m\u001b[43mexcept_\u001b[49m\n\u001b[0;32m   3344\u001b[0m \u001b[43m        \u001b[49m\u001b[43m)\u001b[49m\n\u001b[0;32m   3345\u001b[0m \u001b[38;5;28;01melse\u001b[39;00m:\n\u001b[0;32m   3346\u001b[0m     has_error \u001b[38;5;241m=\u001b[39m \u001b[38;5;28;01mTrue\u001b[39;00m\n",
      "File \u001b[1;32mc:\\Users\\Ernest\\.conda\\envs\\l2rpn-test\\lib\\site-packages\\grid2op\\Environment\\baseEnv.py:3082\u001b[0m, in \u001b[0;36mBaseEnv._aux_run_pf_after_state_properly_set\u001b[1;34m(self, action, init_line_status, new_p, except_)\u001b[0m\n\u001b[0;32m   3079\u001b[0m \u001b[38;5;28;01mtry\u001b[39;00m:\n\u001b[0;32m   3080\u001b[0m     \u001b[38;5;66;03m# compute the next _grid state\u001b[39;00m\n\u001b[0;32m   3081\u001b[0m     beg_pf \u001b[38;5;241m=\u001b[39m time\u001b[38;5;241m.\u001b[39mperf_counter()\n\u001b[1;32m-> 3082\u001b[0m     disc_lines, detailed_info, conv_ \u001b[38;5;241m=\u001b[39m \u001b[38;5;28;43mself\u001b[39;49m\u001b[38;5;241;43m.\u001b[39;49m\u001b[43m_backend_next_grid_state\u001b[49m\u001b[43m(\u001b[49m\u001b[43m)\u001b[49m\n\u001b[0;32m   3083\u001b[0m     \u001b[38;5;28mself\u001b[39m\u001b[38;5;241m.\u001b[39m_disc_lines[:] \u001b[38;5;241m=\u001b[39m disc_lines\n\u001b[0;32m   3084\u001b[0m     \u001b[38;5;28mself\u001b[39m\u001b[38;5;241m.\u001b[39m_time_powerflow \u001b[38;5;241m+\u001b[39m\u001b[38;5;241m=\u001b[39m time\u001b[38;5;241m.\u001b[39mperf_counter() \u001b[38;5;241m-\u001b[39m beg_pf\n",
      "File \u001b[1;32mc:\\Users\\Ernest\\.conda\\envs\\l2rpn-test\\lib\\site-packages\\grid2op\\Environment\\baseEnv.py:3072\u001b[0m, in \u001b[0;36mBaseEnv._backend_next_grid_state\u001b[1;34m(self)\u001b[0m\n\u001b[0;32m   3070\u001b[0m \u001b[38;5;28;01mdef\u001b[39;00m \u001b[38;5;21m_backend_next_grid_state\u001b[39m(\u001b[38;5;28mself\u001b[39m):\n\u001b[0;32m   3071\u001b[0m \u001b[38;5;250m    \u001b[39m\u001b[38;5;124;03m\"\"\"overlaoded in MaskedEnv\"\"\"\u001b[39;00m\n\u001b[1;32m-> 3072\u001b[0m     \u001b[38;5;28;01mreturn\u001b[39;00m \u001b[38;5;28;43mself\u001b[39;49m\u001b[38;5;241;43m.\u001b[39;49m\u001b[43mbackend\u001b[49m\u001b[38;5;241;43m.\u001b[39;49m\u001b[43mnext_grid_state\u001b[49m\u001b[43m(\u001b[49m\u001b[43menv\u001b[49m\u001b[38;5;241;43m=\u001b[39;49m\u001b[38;5;28;43mself\u001b[39;49m\u001b[43m,\u001b[49m\u001b[43m \u001b[49m\u001b[43mis_dc\u001b[49m\u001b[38;5;241;43m=\u001b[39;49m\u001b[38;5;28;43mself\u001b[39;49m\u001b[38;5;241;43m.\u001b[39;49m\u001b[43m_env_dc\u001b[49m\u001b[43m)\u001b[49m\n",
      "File \u001b[1;32mc:\\Users\\Ernest\\.conda\\envs\\l2rpn-test\\lib\\site-packages\\grid2op\\Backend\\backend.py:1114\u001b[0m, in \u001b[0;36mBackend.next_grid_state\u001b[1;34m(self, env, is_dc)\u001b[0m\n\u001b[0;32m   1111\u001b[0m         \u001b[38;5;28mself\u001b[39m\u001b[38;5;241m.\u001b[39m_disconnect_line(i)\n\u001b[0;32m   1113\u001b[0m \u001b[38;5;66;03m# start a powerflow on this new state\u001b[39;00m\n\u001b[1;32m-> 1114\u001b[0m conv_ \u001b[38;5;241m=\u001b[39m \u001b[38;5;28;43mself\u001b[39;49m\u001b[38;5;241;43m.\u001b[39;49m\u001b[43m_runpf_with_diverging_exception\u001b[49m\u001b[43m(\u001b[49m\u001b[43mis_dc\u001b[49m\u001b[43m)\u001b[49m\n\u001b[0;32m   1115\u001b[0m \u001b[38;5;28;01mif\u001b[39;00m \u001b[38;5;28mself\u001b[39m\u001b[38;5;241m.\u001b[39mdetailed_infos_for_cascading_failures:\n\u001b[0;32m   1116\u001b[0m     infos\u001b[38;5;241m.\u001b[39mappend(\u001b[38;5;28mself\u001b[39m\u001b[38;5;241m.\u001b[39mcopy())\n",
      "File \u001b[1;32mc:\\Users\\Ernest\\.conda\\envs\\l2rpn-test\\lib\\site-packages\\grid2op\\Backend\\backend.py:1025\u001b[0m, in \u001b[0;36mBackend._runpf_with_diverging_exception\u001b[1;34m(self, is_dc)\u001b[0m\n\u001b[0;32m   1023\u001b[0m exc_me \u001b[38;5;241m=\u001b[39m \u001b[38;5;28;01mNone\u001b[39;00m\n\u001b[0;32m   1024\u001b[0m \u001b[38;5;28;01mtry\u001b[39;00m:\n\u001b[1;32m-> 1025\u001b[0m     conv, exc_me \u001b[38;5;241m=\u001b[39m \u001b[38;5;28;43mself\u001b[39;49m\u001b[38;5;241;43m.\u001b[39;49m\u001b[43mrunpf\u001b[49m\u001b[43m(\u001b[49m\u001b[43mis_dc\u001b[49m\u001b[38;5;241;43m=\u001b[39;49m\u001b[43mis_dc\u001b[49m\u001b[43m)\u001b[49m  \u001b[38;5;66;03m# run powerflow\u001b[39;00m\n\u001b[0;32m   1026\u001b[0m \u001b[38;5;28;01mexcept\u001b[39;00m Grid2OpException \u001b[38;5;28;01mas\u001b[39;00m exc_:\n\u001b[0;32m   1027\u001b[0m     exc_me \u001b[38;5;241m=\u001b[39m exc_\n",
      "File \u001b[1;32mc:\\Users\\Ernest\\.conda\\envs\\l2rpn-test\\lib\\site-packages\\grid2op\\Backend\\pandaPowerBackend.py:1074\u001b[0m, in \u001b[0;36mPandaPowerBackend.runpf\u001b[1;34m(self, is_dc)\u001b[0m\n\u001b[0;32m   1063\u001b[0m \u001b[38;5;250m\u001b[39m\u001b[38;5;124;03m\"\"\"\u001b[39;00m\n\u001b[0;32m   1064\u001b[0m \u001b[38;5;124;03mINTERNAL\u001b[39;00m\n\u001b[0;32m   1065\u001b[0m \n\u001b[1;32m   (...)\u001b[0m\n\u001b[0;32m   1071\u001b[0m \u001b[38;5;124;03min case of \"do nothing\" action applied.\u001b[39;00m\n\u001b[0;32m   1072\u001b[0m \u001b[38;5;124;03m\"\"\"\u001b[39;00m\n\u001b[0;32m   1073\u001b[0m \u001b[38;5;28;01mtry\u001b[39;00m:\n\u001b[1;32m-> 1074\u001b[0m     \u001b[38;5;28;43mself\u001b[39;49m\u001b[38;5;241;43m.\u001b[39;49m\u001b[43m_aux_runpf_pp\u001b[49m\u001b[43m(\u001b[49m\u001b[43mis_dc\u001b[49m\u001b[43m)\u001b[49m\n\u001b[0;32m   1076\u001b[0m     \u001b[38;5;28mcls\u001b[39m \u001b[38;5;241m=\u001b[39m \u001b[38;5;28mtype\u001b[39m(\u001b[38;5;28mself\u001b[39m)  \n\u001b[0;32m   1077\u001b[0m     \u001b[38;5;66;03m# if a connected bus has a no voltage, it's a divergence (grid was not connected)\u001b[39;00m\n",
      "File \u001b[1;32mc:\\Users\\Ernest\\.conda\\envs\\l2rpn-test\\lib\\site-packages\\grid2op\\Backend\\pandaPowerBackend.py:1037\u001b[0m, in \u001b[0;36mPandaPowerBackend._aux_runpf_pp\u001b[1;34m(self, is_dc)\u001b[0m\n\u001b[0;32m   1035\u001b[0m         \u001b[38;5;28mself\u001b[39m\u001b[38;5;241m.\u001b[39m_nb_bus_before \u001b[38;5;241m=\u001b[39m \u001b[38;5;28;01mNone\u001b[39;00m\n\u001b[0;32m   1036\u001b[0m     \u001b[38;5;28;01melse\u001b[39;00m:\n\u001b[1;32m-> 1037\u001b[0m         \u001b[43mpp\u001b[49m\u001b[38;5;241;43m.\u001b[39;49m\u001b[43mrunpp\u001b[49m\u001b[43m(\u001b[49m\n\u001b[0;32m   1038\u001b[0m \u001b[43m            \u001b[49m\u001b[38;5;28;43mself\u001b[39;49m\u001b[38;5;241;43m.\u001b[39;49m\u001b[43m_grid\u001b[49m\u001b[43m,\u001b[49m\n\u001b[0;32m   1039\u001b[0m \u001b[43m            \u001b[49m\u001b[43mcheck_connectivity\u001b[49m\u001b[38;5;241;43m=\u001b[39;49m\u001b[38;5;28;43;01mFalse\u001b[39;49;00m\u001b[43m,\u001b[49m\n\u001b[0;32m   1040\u001b[0m \u001b[43m            \u001b[49m\u001b[43minit\u001b[49m\u001b[38;5;241;43m=\u001b[39;49m\u001b[38;5;28;43mself\u001b[39;49m\u001b[38;5;241;43m.\u001b[39;49m\u001b[43m_pf_init\u001b[49m\u001b[43m,\u001b[49m\n\u001b[0;32m   1041\u001b[0m \u001b[43m            \u001b[49m\u001b[43mnumba\u001b[49m\u001b[38;5;241;43m=\u001b[39;49m\u001b[38;5;28;43mself\u001b[39;49m\u001b[38;5;241;43m.\u001b[39;49m\u001b[43mwith_numba\u001b[49m\u001b[43m,\u001b[49m\n\u001b[0;32m   1042\u001b[0m \u001b[43m            \u001b[49m\u001b[43mlightsim2grid\u001b[49m\u001b[38;5;241;43m=\u001b[39;49m\u001b[38;5;28;43mself\u001b[39;49m\u001b[38;5;241;43m.\u001b[39;49m\u001b[43m_lightsim2grid\u001b[49m\u001b[43m,\u001b[49m\n\u001b[0;32m   1043\u001b[0m \u001b[43m            \u001b[49m\u001b[43mmax_iteration\u001b[49m\u001b[38;5;241;43m=\u001b[39;49m\u001b[38;5;28;43mself\u001b[39;49m\u001b[38;5;241;43m.\u001b[39;49m\u001b[43m_max_iter\u001b[49m\u001b[43m,\u001b[49m\n\u001b[0;32m   1044\u001b[0m \u001b[43m            \u001b[49m\u001b[43mdistributed_slack\u001b[49m\u001b[38;5;241;43m=\u001b[39;49m\u001b[38;5;28;43mself\u001b[39;49m\u001b[38;5;241;43m.\u001b[39;49m\u001b[43m_dist_slack\u001b[49m\u001b[43m,\u001b[49m\n\u001b[0;32m   1045\u001b[0m \u001b[43m        \u001b[49m\u001b[43m)\u001b[49m\n\u001b[0;32m   1046\u001b[0m \u001b[38;5;28;01mexcept\u001b[39;00m \u001b[38;5;167;01mIndexError\u001b[39;00m \u001b[38;5;28;01mas\u001b[39;00m exc_:\n\u001b[0;32m   1047\u001b[0m     \u001b[38;5;28;01mraise\u001b[39;00m pp\u001b[38;5;241m.\u001b[39mpowerflow\u001b[38;5;241m.\u001b[39mLoadflowNotConverged(\u001b[38;5;124mf\u001b[39m\u001b[38;5;124m\"\u001b[39m\u001b[38;5;124mSurprising behaviour of pandapower when a bus is not connected to \u001b[39m\u001b[38;5;124m\"\u001b[39m\n\u001b[0;32m   1048\u001b[0m                                             \u001b[38;5;124mf\u001b[39m\u001b[38;5;124m\"\u001b[39m\u001b[38;5;124manything but present on the bus (with check_connectivity=False). \u001b[39m\u001b[38;5;124m\"\u001b[39m\n\u001b[0;32m   1049\u001b[0m                                             \u001b[38;5;124mf\u001b[39m\u001b[38;5;124m\"\u001b[39m\u001b[38;5;124mError was \u001b[39m\u001b[38;5;132;01m{\u001b[39;00mexc_\u001b[38;5;132;01m}\u001b[39;00m\u001b[38;5;124m\"\u001b[39m\n\u001b[0;32m   1050\u001b[0m                                             )\n",
      "File \u001b[1;32mc:\\Users\\Ernest\\.conda\\envs\\l2rpn-test\\lib\\site-packages\\pandapower\\run.py:241\u001b[0m, in \u001b[0;36mrunpp\u001b[1;34m(net, algorithm, calculate_voltage_angles, init, max_iteration, tolerance_mva, trafo_model, trafo_loading, enforce_q_lims, check_connectivity, voltage_depend_loads, consider_line_temperature, run_control, distributed_slack, tdpf, tdpf_delay_s, **kwargs)\u001b[0m\n\u001b[0;32m    239\u001b[0m _check_bus_index_and_print_warning_if_high(net)\n\u001b[0;32m    240\u001b[0m _check_gen_index_and_print_warning_if_high(net)\n\u001b[1;32m--> 241\u001b[0m _powerflow(net, \u001b[38;5;241m*\u001b[39m\u001b[38;5;241m*\u001b[39mkwargs)\n",
      "File \u001b[1;32mc:\\Users\\Ernest\\.conda\\envs\\l2rpn-test\\lib\\site-packages\\pandapower\\powerflow.py:84\u001b[0m, in \u001b[0;36m_powerflow\u001b[1;34m(net, **kwargs)\u001b[0m\n\u001b[0;32m     81\u001b[0m     kwargs[\u001b[38;5;124m\"\u001b[39m\u001b[38;5;124mVERBOSE\u001b[39m\u001b[38;5;124m\"\u001b[39m] \u001b[38;5;241m=\u001b[39m \u001b[38;5;241m0\u001b[39m\n\u001b[0;32m     83\u001b[0m \u001b[38;5;66;03m# ----- run the powerflow -----\u001b[39;00m\n\u001b[1;32m---> 84\u001b[0m result \u001b[38;5;241m=\u001b[39m _run_pf_algorithm(ppci, net[\u001b[38;5;124m\"\u001b[39m\u001b[38;5;124m_options\u001b[39m\u001b[38;5;124m\"\u001b[39m], \u001b[38;5;241m*\u001b[39m\u001b[38;5;241m*\u001b[39mkwargs)\n\u001b[0;32m     85\u001b[0m \u001b[38;5;66;03m# read the results (=ppci with results) to net\u001b[39;00m\n\u001b[0;32m     86\u001b[0m _ppci_to_net(result, net)\n",
      "File \u001b[1;32mc:\\Users\\Ernest\\.conda\\envs\\l2rpn-test\\lib\\site-packages\\pandapower\\powerflow.py:166\u001b[0m, in \u001b[0;36m_run_pf_algorithm\u001b[1;34m(ppci, options, **kwargs)\u001b[0m\n\u001b[0;32m    164\u001b[0m     result \u001b[38;5;241m=\u001b[39m _run_bfswpf(ppci, options, \u001b[38;5;241m*\u001b[39m\u001b[38;5;241m*\u001b[39mkwargs)[\u001b[38;5;241m0\u001b[39m]\n\u001b[0;32m    165\u001b[0m \u001b[38;5;28;01melif\u001b[39;00m algorithm \u001b[38;5;129;01min\u001b[39;00m [\u001b[38;5;124m'\u001b[39m\u001b[38;5;124mnr\u001b[39m\u001b[38;5;124m'\u001b[39m, \u001b[38;5;124m'\u001b[39m\u001b[38;5;124miwamoto_nr\u001b[39m\u001b[38;5;124m'\u001b[39m]:\n\u001b[1;32m--> 166\u001b[0m     result \u001b[38;5;241m=\u001b[39m \u001b[43m_run_newton_raphson_pf\u001b[49m\u001b[43m(\u001b[49m\u001b[43mppci\u001b[49m\u001b[43m,\u001b[49m\u001b[43m \u001b[49m\u001b[43moptions\u001b[49m\u001b[43m)\u001b[49m\n\u001b[0;32m    167\u001b[0m \u001b[38;5;28;01melif\u001b[39;00m algorithm \u001b[38;5;129;01min\u001b[39;00m [\u001b[38;5;124m'\u001b[39m\u001b[38;5;124mfdbx\u001b[39m\u001b[38;5;124m'\u001b[39m, \u001b[38;5;124m'\u001b[39m\u001b[38;5;124mfdxb\u001b[39m\u001b[38;5;124m'\u001b[39m, \u001b[38;5;124m'\u001b[39m\u001b[38;5;124mgs\u001b[39m\u001b[38;5;124m'\u001b[39m]:  \u001b[38;5;66;03m# algorithms existing within pypower\u001b[39;00m\n\u001b[0;32m    168\u001b[0m     result \u001b[38;5;241m=\u001b[39m _runpf_pypower(ppci, options, \u001b[38;5;241m*\u001b[39m\u001b[38;5;241m*\u001b[39mkwargs)[\u001b[38;5;241m0\u001b[39m]\n",
      "File \u001b[1;32mc:\\Users\\Ernest\\.conda\\envs\\l2rpn-test\\lib\\site-packages\\pandapower\\pf\\run_newton_raphson_pf.py:59\u001b[0m, in \u001b[0;36m_run_newton_raphson_pf\u001b[1;34m(ppci, options)\u001b[0m\n\u001b[0;32m     57\u001b[0m     ppci, success, iterations, bus, gen, branch \u001b[38;5;241m=\u001b[39m _run_ac_pf_with_qlims_enforced(ppci, options)\n\u001b[0;32m     58\u001b[0m \u001b[38;5;28;01melse\u001b[39;00m:\n\u001b[1;32m---> 59\u001b[0m     ppci, success, iterations \u001b[38;5;241m=\u001b[39m \u001b[43m_run_ac_pf_without_qlims_enforced\u001b[49m\u001b[43m(\u001b[49m\u001b[43mppci\u001b[49m\u001b[43m,\u001b[49m\u001b[43m \u001b[49m\u001b[43moptions\u001b[49m\u001b[43m)\u001b[49m\n\u001b[0;32m     60\u001b[0m     \u001b[38;5;66;03m# update data matrices with solution store in ppci\u001b[39;00m\n\u001b[0;32m     61\u001b[0m     bus, gen, branch \u001b[38;5;241m=\u001b[39m ppci_to_pfsoln(ppci, options)\n",
      "File \u001b[1;32mc:\\Users\\Ernest\\.conda\\envs\\l2rpn-test\\lib\\site-packages\\pandapower\\pf\\run_newton_raphson_pf.py:169\u001b[0m, in \u001b[0;36m_run_ac_pf_without_qlims_enforced\u001b[1;34m(ppci, options)\u001b[0m\n\u001b[0;32m    167\u001b[0m     r_theta_kelvin_per_mw \u001b[38;5;241m=\u001b[39m \u001b[38;5;28;01mNone\u001b[39;00m\n\u001b[0;32m    168\u001b[0m \u001b[38;5;28;01melse\u001b[39;00m:\n\u001b[1;32m--> 169\u001b[0m     V, success, iterations, J, Vm_it, Va_it, r_theta_kelvin_per_mw, T \u001b[38;5;241m=\u001b[39m \u001b[43mnewtonpf\u001b[49m\u001b[43m(\u001b[49m\u001b[43mYbus\u001b[49m\u001b[43m,\u001b[49m\u001b[43m \u001b[49m\u001b[43mSbus\u001b[49m\u001b[43m,\u001b[49m\u001b[43m \u001b[49m\u001b[43mV0\u001b[49m\u001b[43m,\u001b[49m\u001b[43m \u001b[49m\u001b[43mref\u001b[49m\u001b[43m,\u001b[49m\u001b[43m \u001b[49m\u001b[43mpv\u001b[49m\u001b[43m,\u001b[49m\u001b[43m \u001b[49m\u001b[43mpq\u001b[49m\u001b[43m,\u001b[49m\u001b[43m \u001b[49m\u001b[43mppci\u001b[49m\u001b[43m,\u001b[49m\u001b[43m \u001b[49m\u001b[43moptions\u001b[49m\u001b[43m,\u001b[49m\u001b[43m \u001b[49m\u001b[43mmakeYbus\u001b[49m\u001b[43m)\u001b[49m\n\u001b[0;32m    170\u001b[0m     \u001b[38;5;66;03m# due to TPDF, SVC, TCSC, the Ybus matrices can be updated in the newtonpf and stored in ppci[\"internal\"],\u001b[39;00m\n\u001b[0;32m    171\u001b[0m     \u001b[38;5;66;03m# so we extract them here for later use:\u001b[39;00m\n\u001b[0;32m    172\u001b[0m     Ybus, Ybus_svc, Ybus_tcsc \u001b[38;5;241m=\u001b[39m (ppci[\u001b[38;5;124m\"\u001b[39m\u001b[38;5;124minternal\u001b[39m\u001b[38;5;124m\"\u001b[39m]\u001b[38;5;241m.\u001b[39mget(key) \u001b[38;5;28;01mfor\u001b[39;00m key \u001b[38;5;129;01min\u001b[39;00m (\u001b[38;5;124m\"\u001b[39m\u001b[38;5;124mYbus\u001b[39m\u001b[38;5;124m\"\u001b[39m, \u001b[38;5;124m\"\u001b[39m\u001b[38;5;124mYbus_svc\u001b[39m\u001b[38;5;124m\"\u001b[39m, \u001b[38;5;124m\"\u001b[39m\u001b[38;5;124mYbus_tcsc\u001b[39m\u001b[38;5;124m\"\u001b[39m))\n",
      "File \u001b[1;32mc:\\Users\\Ernest\\.conda\\envs\\l2rpn-test\\lib\\site-packages\\pandapower\\pypower\\newtonpf.py:163\u001b[0m, in \u001b[0;36mnewtonpf\u001b[1;34m(Ybus, Sbus, V0, ref, pv, pq, ppci, options, makeYbus)\u001b[0m\n\u001b[0;32m    158\u001b[0m refpvpq \u001b[38;5;241m=\u001b[39m r_[ref, pvpq]\n\u001b[0;32m    159\u001b[0m \u001b[38;5;66;03m# generate lookup pvpq -> index pvpq (used in createJ):\u001b[39;00m\n\u001b[0;32m    160\u001b[0m \u001b[38;5;66;03m#   shows for a given row from Ybus, which row in J it becomes\u001b[39;00m\n\u001b[0;32m    161\u001b[0m \u001b[38;5;66;03m#   e.g. the first row in J is a PV bus. If the first PV bus in Ybus is in the row 2, the index of the row in Jbus must be 0.\u001b[39;00m\n\u001b[0;32m    162\u001b[0m \u001b[38;5;66;03m#   pvpq_lookup will then have a 0 at the index 2\u001b[39;00m\n\u001b[1;32m--> 163\u001b[0m pvpq_lookup \u001b[38;5;241m=\u001b[39m zeros(\u001b[38;5;28;43mmax\u001b[39;49m\u001b[43m(\u001b[49m\u001b[43m(\u001b[49m\u001b[43mYbus\u001b[49m\u001b[43m \u001b[49m\u001b[38;5;241;43m+\u001b[39;49m\u001b[43m \u001b[49m\u001b[43mYbus_svc\u001b[49m\u001b[43m \u001b[49m\u001b[38;5;241;43m+\u001b[39;49m\u001b[43m \u001b[49m\u001b[43mYbus_tcsc\u001b[49m\u001b[43m)\u001b[49m\u001b[38;5;241;43m.\u001b[39;49m\u001b[43mindices\u001b[49m\u001b[43m)\u001b[49m \u001b[38;5;241m+\u001b[39m \u001b[38;5;241m1\u001b[39m, dtype\u001b[38;5;241m=\u001b[39mnp\u001b[38;5;241m.\u001b[39mint64)\n\u001b[0;32m    164\u001b[0m \u001b[38;5;28;01mif\u001b[39;00m dist_slack:\n\u001b[0;32m    165\u001b[0m     \u001b[38;5;66;03m# slack bus is relevant for the function createJ_ds\u001b[39;00m\n\u001b[0;32m    166\u001b[0m     pvpq_lookup[refpvpq] \u001b[38;5;241m=\u001b[39m arange(\u001b[38;5;28mlen\u001b[39m(refpvpq))\n",
      "File \u001b[1;32mc:\\Users\\Ernest\\.conda\\envs\\l2rpn-test\\lib\\site-packages\\numpy\\core\\fromnumeric.py:2810\u001b[0m, in \u001b[0;36mmax\u001b[1;34m(a, axis, out, keepdims, initial, where)\u001b[0m\n\u001b[0;32m   2692\u001b[0m \u001b[38;5;129m@array_function_dispatch\u001b[39m(_max_dispatcher)\n\u001b[0;32m   2693\u001b[0m \u001b[38;5;129m@set_module\u001b[39m(\u001b[38;5;124m'\u001b[39m\u001b[38;5;124mnumpy\u001b[39m\u001b[38;5;124m'\u001b[39m)\n\u001b[0;32m   2694\u001b[0m \u001b[38;5;28;01mdef\u001b[39;00m \u001b[38;5;21mmax\u001b[39m(a, axis\u001b[38;5;241m=\u001b[39m\u001b[38;5;28;01mNone\u001b[39;00m, out\u001b[38;5;241m=\u001b[39m\u001b[38;5;28;01mNone\u001b[39;00m, keepdims\u001b[38;5;241m=\u001b[39mnp\u001b[38;5;241m.\u001b[39m_NoValue, initial\u001b[38;5;241m=\u001b[39mnp\u001b[38;5;241m.\u001b[39m_NoValue,\n\u001b[0;32m   2695\u001b[0m          where\u001b[38;5;241m=\u001b[39mnp\u001b[38;5;241m.\u001b[39m_NoValue):\n\u001b[0;32m   2696\u001b[0m \u001b[38;5;250m    \u001b[39m\u001b[38;5;124;03m\"\"\"\u001b[39;00m\n\u001b[0;32m   2697\u001b[0m \u001b[38;5;124;03m    Return the maximum of an array or maximum along an axis.\u001b[39;00m\n\u001b[0;32m   2698\u001b[0m \n\u001b[1;32m   (...)\u001b[0m\n\u001b[0;32m   2808\u001b[0m \u001b[38;5;124;03m    5\u001b[39;00m\n\u001b[0;32m   2809\u001b[0m \u001b[38;5;124;03m    \"\"\"\u001b[39;00m\n\u001b[1;32m-> 2810\u001b[0m     \u001b[38;5;28;01mreturn\u001b[39;00m \u001b[43m_wrapreduction\u001b[49m\u001b[43m(\u001b[49m\u001b[43ma\u001b[49m\u001b[43m,\u001b[49m\u001b[43m \u001b[49m\u001b[43mnp\u001b[49m\u001b[38;5;241;43m.\u001b[39;49m\u001b[43mmaximum\u001b[49m\u001b[43m,\u001b[49m\u001b[43m \u001b[49m\u001b[38;5;124;43m'\u001b[39;49m\u001b[38;5;124;43mmax\u001b[39;49m\u001b[38;5;124;43m'\u001b[39;49m\u001b[43m,\u001b[49m\u001b[43m \u001b[49m\u001b[43maxis\u001b[49m\u001b[43m,\u001b[49m\u001b[43m \u001b[49m\u001b[38;5;28;43;01mNone\u001b[39;49;00m\u001b[43m,\u001b[49m\u001b[43m \u001b[49m\u001b[43mout\u001b[49m\u001b[43m,\u001b[49m\n\u001b[0;32m   2811\u001b[0m \u001b[43m                          \u001b[49m\u001b[43mkeepdims\u001b[49m\u001b[38;5;241;43m=\u001b[39;49m\u001b[43mkeepdims\u001b[49m\u001b[43m,\u001b[49m\u001b[43m \u001b[49m\u001b[43minitial\u001b[49m\u001b[38;5;241;43m=\u001b[39;49m\u001b[43minitial\u001b[49m\u001b[43m,\u001b[49m\u001b[43m \u001b[49m\u001b[43mwhere\u001b[49m\u001b[38;5;241;43m=\u001b[39;49m\u001b[43mwhere\u001b[49m\u001b[43m)\u001b[49m\n",
      "File \u001b[1;32mc:\\Users\\Ernest\\.conda\\envs\\l2rpn-test\\lib\\site-packages\\numpy\\core\\fromnumeric.py:88\u001b[0m, in \u001b[0;36m_wrapreduction\u001b[1;34m(obj, ufunc, method, axis, dtype, out, **kwargs)\u001b[0m\n\u001b[0;32m     85\u001b[0m         \u001b[38;5;28;01melse\u001b[39;00m:\n\u001b[0;32m     86\u001b[0m             \u001b[38;5;28;01mreturn\u001b[39;00m reduction(axis\u001b[38;5;241m=\u001b[39maxis, out\u001b[38;5;241m=\u001b[39mout, \u001b[38;5;241m*\u001b[39m\u001b[38;5;241m*\u001b[39mpasskwargs)\n\u001b[1;32m---> 88\u001b[0m \u001b[38;5;28;01mreturn\u001b[39;00m ufunc\u001b[38;5;241m.\u001b[39mreduce(obj, axis, dtype, out, \u001b[38;5;241m*\u001b[39m\u001b[38;5;241m*\u001b[39mpasskwargs)\n",
      "\u001b[1;31mValueError\u001b[0m: zero-size array to reduction operation maximum which has no identity"
     ]
    }
   ],
   "source": [
    "input_dim = 182\n",
    "output_dim = 132\n",
    "exp_replay_size = 256\n",
    "converter = Converter(env)\n",
    "agent = DQN_Agent(seed = 1423, layer_sizes = [input_dim, 156, output_dim], lr = 1e-3, sync_freq = 5, exp_replay_size = exp_replay_size)\n",
    "\n",
    "# initiliaze experiance replay      \n",
    "index = 0\n",
    "for i in range(exp_replay_size):\n",
    "    obs = env.reset()\n",
    "    done = False\n",
    "    while(done != True):\n",
    "        A = agent.get_action(obs.to_vect(), env.action_space.n, epsilon=1)\n",
    "        obs_next, reward, done, _ = env.step(converter.convert_one_hot_encoding_act_to_env_act(converter.int_to_one_hot_encoding(A.item())))\n",
    "        agent.collect_experience([obs.to_vect(), A.item(), reward, obs_next.to_vect()])\n",
    "        obs = obs_next\n",
    "        index += 1\n",
    "        if( index > exp_replay_size ):\n",
    "            break\n",
    "\n",
    "\n",
    "# Main training loop\n",
    "losses_list, reward_list, episode_len_list, epsilon_list  = [], [], [], []\n",
    "index = 128\n",
    "episodes = 10000\n",
    "epsilon = 1\n",
    "actions_list = []\n",
    "\n",
    "for i in tqdm(range(episodes)):\n",
    "    obs, done, losses, ep_len, rew = env.reset(), False, 0, 0, 0\n",
    "    while(done != True):\n",
    "        ep_len += 1 \n",
    "        A = agent.get_action(obs.to_vect(), env.action_space.n, epsilon)\n",
    "        obs_next, reward, done, _ = env.step(converter.convert_one_hot_encoding_act_to_env_act(converter.int_to_one_hot_encoding(A.item())))\n",
    "        agent.collect_experience([obs.to_vect(), A.item(), reward, obs_next.to_vect()])\n",
    "       \n",
    "        obs = obs_next\n",
    "        rew  += reward\n",
    "        index += 1\n",
    "        \n",
    "        if(index > 128):\n",
    "            index = 0\n",
    "            for j in range(4):\n",
    "                loss = agent.train(batch_size=16)\n",
    "                losses += loss      \n",
    "    if epsilon > 0.05 :\n",
    "        epsilon -= (1 / 5000)\n",
    "    \n",
    "    losses_list.append(losses/ep_len), reward_list.append(rew), episode_len_list.append(ep_len), epsilon_list.append(epsilon)"
   ]
  },
  {
   "cell_type": "code",
   "execution_count": 9,
   "metadata": {},
   "outputs": [
    {
     "data": {
      "text/plain": [
       "256"
      ]
     },
     "execution_count": 9,
     "metadata": {},
     "output_type": "execute_result"
    }
   ],
   "source": [
    "agent.experience_replay.__len__()"
   ]
  },
  {
   "cell_type": "code",
   "execution_count": null,
   "metadata": {},
   "outputs": [],
   "source": []
  }
 ],
 "metadata": {
  "kernelspec": {
   "display_name": "l2rpn-test",
   "language": "python",
   "name": "python3"
  },
  "language_info": {
   "codemirror_mode": {
    "name": "ipython",
    "version": 3
   },
   "file_extension": ".py",
   "mimetype": "text/x-python",
   "name": "python",
   "nbconvert_exporter": "python",
   "pygments_lexer": "ipython3",
   "version": "3.10.13"
  }
 },
 "nbformat": 4,
 "nbformat_minor": 2
}
