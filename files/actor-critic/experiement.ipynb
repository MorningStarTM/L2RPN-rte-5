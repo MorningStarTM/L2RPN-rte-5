{
 "cells": [
  {
   "cell_type": "code",
   "execution_count": 1,
   "metadata": {},
   "outputs": [],
   "source": [
    "import torch as T\n",
    "import torch.nn as nn\n",
    "import torch.nn.functional as F\n",
    "import torch.optim as optim\n",
    "import numpy as np"
   ]
  },
  {
   "cell_type": "code",
   "execution_count": 2,
   "metadata": {},
   "outputs": [],
   "source": [
    "class GenericNetwork(nn.Module):\n",
    "    def __init__(self, alpha, input_dims, fc1_dims, fc2_dims,\n",
    "                 n_actions):\n",
    "        super(GenericNetwork, self).__init__()\n",
    "        self.input_dims = input_dims\n",
    "        self.fc1_dims = fc1_dims\n",
    "        self.fc2_dims = fc2_dims\n",
    "        self.n_actions = n_actions\n",
    "        self.fc1 = nn.Linear(self.input_dims, self.fc1_dims)\n",
    "        self.fc2 = nn.Linear(self.fc1_dims, self.fc2_dims)\n",
    "        self.fc3 = nn.Linear(self.fc2_dims, n_actions)\n",
    "        self.optimizer = optim.Adam(self.parameters(), lr=alpha)\n",
    "\n",
    "        self.device = T.device('cuda:0' if T.cuda.is_available() else 'cuda:1')\n",
    "        self.to(self.device)\n",
    "\n",
    "    def forward(self, observation):\n",
    "        state = T.Tensor(observation).to(self.device)\n",
    "        x = F.relu(self.fc1(state))\n",
    "        x = F.relu(self.fc2(x))\n",
    "        x = self.fc3(x)\n",
    "        return x"
   ]
  },
  {
   "cell_type": "code",
   "execution_count": 3,
   "metadata": {},
   "outputs": [],
   "source": [
    "class ActorCriticNetwork(nn.Module):\n",
    "    def __init__(self, alpha, input_dims, fc1_dims, fc2_dims,\n",
    "                 n_actions):\n",
    "        super(ActorCriticNetwork, self).__init__()\n",
    "        self.input_dims = input_dims\n",
    "        self.fc1_dims = fc1_dims\n",
    "        self.fc2_dims = fc2_dims\n",
    "        self.n_actions = n_actions\n",
    "        self.fc1 = nn.Linear(self.input_dims, self.fc1_dims)\n",
    "        self.fc2 = nn.Linear(self.fc1_dims, self.fc2_dims)\n",
    "        self.pi = nn.Linear(self.fc2_dims, n_actions)\n",
    "        self.v = nn.Linear(self.fc2_dims, 1)\n",
    "        self.optimizer = optim.Adam(self.parameters(), lr=alpha)\n",
    "\n",
    "        self.device = T.device('cuda:0' if T.cuda.is_available() else 'cuda:1')\n",
    "        self.to(self.device)\n",
    "\n",
    "    def forward(self, observation):\n",
    "        state = T.Tensor(observation).to(self.device)\n",
    "        x = F.relu(self.fc1(state))\n",
    "        x = F.relu(self.fc2(x))\n",
    "        pi = self.pi(x)\n",
    "        v = self.v(x)\n",
    "        return (pi, v)"
   ]
  },
  {
   "cell_type": "code",
   "execution_count": 4,
   "metadata": {},
   "outputs": [],
   "source": [
    "class Agent(object):\n",
    "    \"\"\" Agent class for use with separate actor and critic networks.\n",
    "        This is appropriate for very simple environments, such as the mountaincar\n",
    "    \"\"\"\n",
    "    def __init__(self, alpha, beta, input_dims, gamma=0.99,\n",
    "                 layer1_size=256, layer2_size=256, n_actions=2):\n",
    "        self.gamma = gamma\n",
    "        self.actor = GenericNetwork(alpha, input_dims, layer1_size,\n",
    "                                    layer2_size, n_actions=n_actions)\n",
    "        self.critic = GenericNetwork(beta, input_dims, layer1_size,\n",
    "                                     layer2_size, n_actions=1)\n",
    "        self.log_probs = None\n",
    "\n",
    "    def choose_action(self, observation):\n",
    "        probabilities = F.softmax(self.actor.forward(observation))\n",
    "        action_probs = T.distributions.Categorical(probabilities)\n",
    "        action = action_probs.sample()\n",
    "        self.log_probs = action_probs.log_prob(action)\n",
    "\n",
    "        return action.item()\n",
    "\n",
    "    def learn(self, state, reward, new_state, done):\n",
    "        self.actor.optimizer.zero_grad()\n",
    "        self.critic.optimizer.zero_grad()\n",
    "\n",
    "        critic_value_ = self.critic.forward(new_state)\n",
    "        critic_value = self.critic.forward(state)\n",
    "        reward = T.tensor(reward, dtype=T.float).to(self.actor.device)\n",
    "\n",
    "        delta = reward + self.gamma*critic_value_*(1-int(done)) - critic_value\n",
    "\n",
    "        actor_loss = -self.log_probs * delta\n",
    "        critic_loss = delta**2\n",
    "\n",
    "        (actor_loss + critic_loss).backward()\n",
    "\n",
    "        self.actor.optimizer.step()\n",
    "        self.critic.optimizer.step()\n"
   ]
  },
  {
   "cell_type": "code",
   "execution_count": 5,
   "metadata": {},
   "outputs": [],
   "source": [
    "class NewAgent(object):\n",
    "    \"\"\" Agent class for use with a single actor critic network that shares\n",
    "        the lowest layers. For use with more complex environments such as\n",
    "        the discrete lunar lander\n",
    "    \"\"\"\n",
    "    def __init__(self, alpha, input_dims, gamma=0.99,\n",
    "                 layer1_size=256, layer2_size=256, n_actions=2):\n",
    "        self.gamma = gamma\n",
    "        self.actor_critic = ActorCriticNetwork(alpha, input_dims, layer1_size,\n",
    "                                    layer2_size, n_actions=n_actions)\n",
    "\n",
    "        self.log_probs = None\n",
    "\n",
    "    def choose_action(self, observation):\n",
    "        probabilities, _ = self.actor_critic.forward(observation)\n",
    "        probabilities = F.softmax(probabilities, dim=-1)\n",
    "        action_probs = T.distributions.Categorical(probabilities)\n",
    "        action = action_probs.sample()\n",
    "        log_probs = action_probs.log_prob(action)\n",
    "        self.log_probs = log_probs\n",
    "\n",
    "        return action.item()\n",
    "\n",
    "    def learn(self, state, reward, new_state, done):\n",
    "        self.actor_critic.optimizer.zero_grad()\n",
    "\n",
    "        _, critic_value_ = self.actor_critic.forward(new_state)\n",
    "        _, critic_value = self.actor_critic.forward(state)\n",
    "        reward = T.tensor(reward, dtype=T.float).to(self.actor_critic.device)\n",
    "\n",
    "        delta = reward + self.gamma*critic_value_*(1-int(done)) - critic_value\n",
    "\n",
    "        actor_loss = -self.log_probs * delta\n",
    "        critic_loss = delta**2\n",
    "\n",
    "        (actor_loss + critic_loss).backward()\n",
    "\n",
    "        self.actor_critic.optimizer.step()"
   ]
  },
  {
   "cell_type": "code",
   "execution_count": 1,
   "metadata": {},
   "outputs": [
    {
     "name": "stderr",
     "output_type": "stream",
     "text": [
      "c:\\Users\\Ernest\\.conda\\envs\\l2rpn-test\\lib\\site-packages\\grid2op\\Backend\\pandaPowerBackend.py:32: UserWarning: Numba cannot be loaded. You will gain possibly massive speed if installing it by \n",
      "\tc:\\Users\\Ernest\\.conda\\envs\\l2rpn-test\\python.exe -m pip install numba\n",
      "\n",
      "  warnings.warn(\n"
     ]
    }
   ],
   "source": [
    "import grid2op\n",
    "from grid2op.Action import TopologyChangeAction\n",
    "from utils import Converter\n",
    "import gym\n",
    "from actor_critic import ACAgent"
   ]
  },
  {
   "cell_type": "code",
   "execution_count": 2,
   "metadata": {},
   "outputs": [
    {
     "name": "stderr",
     "output_type": "stream",
     "text": [
      "c:\\Users\\Ernest\\.conda\\envs\\l2rpn-test\\lib\\site-packages\\grid2op\\MakeEnv\\Make.py:438: UserWarning: You are using a development environment. This environment is not intended for training agents. It might not be up to date and its primary use if for tests (hence the \"test=True\" you passed as argument). Use at your own risk.\n",
      "  warnings.warn(_MAKE_DEV_ENV_WARN)\n"
     ]
    }
   ],
   "source": [
    "env = grid2op.make('rte_case5_example', test=True, action_class=TopologyChangeAction)\n",
    "gym_env = gym.make('LunarLander-v2')"
   ]
  },
  {
   "cell_type": "code",
   "execution_count": 3,
   "metadata": {},
   "outputs": [],
   "source": [
    "converter = Converter(env)"
   ]
  },
  {
   "cell_type": "code",
   "execution_count": 4,
   "metadata": {},
   "outputs": [],
   "source": [
    "hp = {'alpha':[0.00001, 0.00003]}\n",
    "Agent = ACAgent(0.00001, 182, n_actions=132)"
   ]
  },
  {
   "cell_type": "code",
   "execution_count": 5,
   "metadata": {},
   "outputs": [],
   "source": [
    "a1 = ACAgent(0.00001, 182, n_actions=132)\n",
    "a1.load_model(\"AC-1\\\\actor_critic.pth\")"
   ]
  },
  {
   "cell_type": "code",
   "execution_count": 5,
   "metadata": {},
   "outputs": [
    {
     "data": {
      "text/plain": [
       "21"
      ]
     },
     "execution_count": 5,
     "metadata": {},
     "output_type": "execute_result"
    }
   ],
   "source": [
    "obs = env.reset()\n",
    "action = Agent.choose_action(obs.to_vect())\n",
    "action"
   ]
  },
  {
   "cell_type": "code",
   "execution_count": 6,
   "metadata": {},
   "outputs": [
    {
     "name": "stdout",
     "output_type": "stream",
     "text": [
      "episode:  0 score: 11518.82\n",
      "episode:  1 score: 13401.44\n",
      "episode:  2 score: 13272.94\n",
      "episode:  3 score: 11799.46\n",
      "episode:  4 score: 12250.94\n",
      "episode:  5 score: 12723.99\n",
      "episode:  6 score: 12881.77\n",
      "episode:  7 score: 13649.13\n",
      "episode:  8 score: 13455.55\n",
      "episode:  9 score: 13175.82\n",
      "episode:  10 score: 12067.46\n",
      "episode:  11 score: 14021.87\n",
      "episode:  12 score: 11490.97\n",
      "episode:  13 score: 11449.31\n",
      "episode:  14 score: 12895.59\n",
      "episode:  15 score: 11996.70\n",
      "episode:  16 score: 12992.36\n",
      "episode:  17 score: 12015.34\n",
      "episode:  18 score: 12391.00\n",
      "episode:  19 score: 12413.68\n"
     ]
    }
   ],
   "source": [
    "score_history = []\n",
    "score = 0\n",
    "num_episodes = 20\n",
    "for i in range(num_episodes):\n",
    "\n",
    "    done = False\n",
    "    score = 0\n",
    "    observation = env.reset()\n",
    "    while not done:\n",
    "        action = Agent.choose_action(observation.to_vect())\n",
    "        observation_, reward, done, info = env.step(converter.convert_one_hot_encoding_act_to_env_act(converter.int_to_onehot(action)))\n",
    "        #observation_, reward, done, info,_ = gym_env.step(action)\n",
    "        #print(action)\n",
    "        Agent.learn(observation.to_vect(), reward, observation_.to_vect(), done)\n",
    "        observation = observation_\n",
    "        score += reward\n",
    "\n",
    "    score_history.append(score)\n",
    "    print('episode: ', i,'score: %.2f' % score)\n"
   ]
  },
  {
   "cell_type": "code",
   "execution_count": 9,
   "metadata": {},
   "outputs": [],
   "source": [
    "Agent.save_model(\"AC-1\")"
   ]
  },
  {
   "cell_type": "code",
   "execution_count": 6,
   "metadata": {},
   "outputs": [
    {
     "name": "stdout",
     "output_type": "stream",
     "text": [
      "Very Simple Actor Critic Simulation\n"
     ]
    },
    {
     "data": {
      "application/vnd.jupyter.widget-view+json": {
       "model_id": "8e61e9a1fdf84311951839e24041384d",
       "version_major": 2,
       "version_minor": 0
      },
      "text/plain": [
       "  0%|          | 0/2016 [00:00<?, ?it/s]"
      ]
     },
     "metadata": {},
     "output_type": "display_data"
    }
   ],
   "source": [
    "from tqdm.notebook import tqdm\n",
    "import numpy as np\n",
    "all_obs = []\n",
    "obs = env.reset()\n",
    "all_obs.append(obs)\n",
    "reward = env.reward_range[0]\n",
    "reward_list = []\n",
    "done = False\n",
    "nb_step = 0\n",
    "print(\"Very Simple Actor Critic Simulation\")\n",
    "with tqdm(total=env.chronics_handler.max_timestep()) as pbar:\n",
    "    while True:\n",
    "        action = a1.choose_action(obs.to_vect())\n",
    "        #action = my_agent.act(obs, reward, done)\n",
    "        obs, reward, done, _ = env.step(converter.convert_one_hot_encoding_act_to_env_act(converter.int_to_onehot(action)))\n",
    "        reward_list.append(reward)\n",
    "        pbar.update(1)\n",
    "        if done:\n",
    "            break\n",
    "        all_obs.append(obs)\n",
    "        nb_step += 1\n",
    "\n",
    "reward_list_simple_DQN = np.copy(reward_list)"
   ]
  },
  {
   "cell_type": "code",
   "execution_count": null,
   "metadata": {},
   "outputs": [],
   "source": []
  }
 ],
 "metadata": {
  "kernelspec": {
   "display_name": "l2rpn-test",
   "language": "python",
   "name": "python3"
  },
  "language_info": {
   "codemirror_mode": {
    "name": "ipython",
    "version": 3
   },
   "file_extension": ".py",
   "mimetype": "text/x-python",
   "name": "python",
   "nbconvert_exporter": "python",
   "pygments_lexer": "ipython3",
   "version": "3.10.13"
  }
 },
 "nbformat": 4,
 "nbformat_minor": 2
}
